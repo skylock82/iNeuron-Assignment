{
 "cells": [
  {
   "cell_type": "code",
   "execution_count": 5,
   "metadata": {},
   "outputs": [
    {
     "name": "stdin",
     "output_type": "stream",
     "text": [
      "my list len= 5\n",
      "Enter number= -1\n",
      "Enter number= 2\n",
      "Enter number= 434\n",
      "Enter number= 4\n",
      "Enter number= -4\n"
     ]
    },
    {
     "name": "stdout",
     "output_type": "stream",
     "text": [
      "Values outside the function:  [-1, 2, 434, 4, -4]\n",
      "The sum is: 435\n"
     ]
    }
   ],
   "source": [
    "#Write a Python Program to implement your own myreduce() function which works exactly like Python's built-in function reduce()\n",
    "#mylistlen=int(input(\"n=\"))\n",
    "mylist = []\n",
    "mysum = 0\n",
    "# Function definition is here\n",
    "def myfs( mylist ):\n",
    "  for i in range(int(input(\"my list len=\"))):\n",
    "    alist=int(input(\"Enter number=\"))\n",
    "    mylist.append(alist)\n",
    "  return\n",
    "def myreduce(mylist):\n",
    "  global mysum\n",
    "  i = len(mylist)\n",
    "  while i != 0:\n",
    "    i -= 1\n",
    "    mysum = mysum + mylist[i]\n",
    "  return\n",
    "# Now you can call myreduce function\n",
    "myfs(mylist);\n",
    "myreduce(mylist);\n",
    "print(\"Values outside the function: \", mylist)\n",
    "print(\"The sum is:\", mysum)"
   ]
  },
  {
   "cell_type": "code",
   "execution_count": 6,
   "metadata": {},
   "outputs": [
    {
     "name": "stdin",
     "output_type": "stream",
     "text": [
      "my list len= 5\n",
      "Enter number= 1\n",
      "Enter number= 2\n",
      "Enter number= 4\n",
      "Enter number= 6\n",
      "Enter number= 9\n"
     ]
    },
    {
     "name": "stdout",
     "output_type": "stream",
     "text": [
      "[2, 4, 6]\n"
     ]
    }
   ],
   "source": [
    "#Write a Python program to implement your own myfilter() function which works exactly like Python's built-in function filter()\n",
    "mylist=res=[]\n",
    "#res=[]\n",
    "# Function definition is here for list\n",
    "def myfs( mylist ):\n",
    "  for i in range(int(input(\"my list len=\"))):\n",
    "    alist=int(input(\"Enter number=\"))\n",
    "    mylist.append(alist)\n",
    "  return\n",
    "myfs(mylist);\n",
    "res=[]\n",
    "def my_filter(func,sequence):\n",
    "    for variable in sequence :\n",
    "        if func(variable):\n",
    "            res.append(variable)\n",
    "    return res\n",
    "def is_even(item):\n",
    "    if item%2==0 :\n",
    "        return True\n",
    "    else :\n",
    "        return False\n",
    "print(my_filter(is_even,mylist))"
   ]
  },
  {
   "cell_type": "code",
   "execution_count": 6,
   "metadata": {},
   "outputs": [
    {
     "name": "stdout",
     "output_type": "stream",
     "text": [
      "['x', 'xx', 'xxx', 'xxxx', 'y', 'yy', 'yyy', 'yyyy', 'z', 'zz', 'zzz', 'zzzz']\n"
     ]
    }
   ],
   "source": [
    "#Write List comprehensions to produce the following Lists\n",
    "#['x', 'xx', 'xxx', 'xxxx', 'y', 'yy', 'yyy', 'yyyy', 'z', 'zz', 'zzz', 'zzzz']\n",
    "list1=['x','y','z']\n",
    "myout=[i*j for i in list1 for j in range(1,5)]\n",
    "print(myout)"
   ]
  },
  {
   "cell_type": "code",
   "execution_count": 8,
   "metadata": {},
   "outputs": [
    {
     "name": "stdout",
     "output_type": "stream",
     "text": [
      "['x', 'y', 'z', 'xx', 'yy', 'zz', 'xxx', 'yyy', 'zzz', 'xxxx', 'yyyy', 'zzzz']\n"
     ]
    }
   ],
   "source": [
    "#['x', 'y', 'z', 'xx', 'yy', 'zz', 'xxx', 'yyy', 'zzz', 'xxxx', 'yyyy', 'zzzz']\n",
    "list1=['x','y','z']\n",
    "myout=[i*j for j in range(1,5) for i in list1]\n",
    "print(myout)"
   ]
  },
  {
   "cell_type": "code",
   "execution_count": 9,
   "metadata": {},
   "outputs": [
    {
     "name": "stdout",
     "output_type": "stream",
     "text": [
      "[[2], [3], [4], [3], [4], [5], [4], [5], [6]]\n"
     ]
    }
   ],
   "source": [
    "#[[2], [3], [4], [3], [4], [5], [4], [5], [6]]\n",
    "myout=[[i + j] for i in range(3) for j in range(2, 5)]\n",
    "print(myout)"
   ]
  },
  {
   "cell_type": "code",
   "execution_count": 10,
   "metadata": {},
   "outputs": [
    {
     "name": "stdout",
     "output_type": "stream",
     "text": [
      "[[2, 3, 4, 5], [3, 4, 5, 6], [4, 5, 6, 7], [5, 6, 7, 8]]\n"
     ]
    }
   ],
   "source": [
    "#[[2, 3, 4, 5], [3, 4, 5, 6], [4, 5, 6, 7], [5, 6, 7, 8]]\n",
    "myout=[[i+j for j in range(2, 6)] for i in range(4)]\n",
    "print(myout)"
   ]
  },
  {
   "cell_type": "code",
   "execution_count": 14,
   "metadata": {},
   "outputs": [
    {
     "name": "stdout",
     "output_type": "stream",
     "text": [
      "[(1, 1), (2, 1), (3, 1), (1, 2), (2, 2), (3, 2), (1, 3), (2, 3), (3, 3)]\n"
     ]
    }
   ],
   "source": [
    "#[(1, 1), (2, 1), (3, 1), (1, 2), (2, 2), (3, 2), (1, 3), (2, 3), (3, 3)]\n",
    "import math \n",
    "list1=[1,2,3]\n",
    "list2=[1,2,3]\n",
    "myout=[(i,j) for j in list1 for i in list2 ]\n",
    "print(myout)"
   ]
  },
  {
   "cell_type": "code",
   "execution_count": null,
   "metadata": {},
   "outputs": [],
   "source": []
  }
 ],
 "metadata": {
  "colab": {
   "collapsed_sections": [],
   "name": "ineuron_assignment1.ipynb",
   "provenance": []
  },
  "kernelspec": {
   "display_name": "Python 3",
   "language": "python",
   "name": "python3"
  },
  "language_info": {
   "codemirror_mode": {
    "name": "ipython",
    "version": 3
   },
   "file_extension": ".py",
   "mimetype": "text/x-python",
   "name": "python",
   "nbconvert_exporter": "python",
   "pygments_lexer": "ipython3",
   "version": "3.8.3"
  }
 },
 "nbformat": 4,
 "nbformat_minor": 4
}
